{
 "cells": [
  {
   "cell_type": "code",
   "execution_count": 1,
   "metadata": {},
   "outputs": [],
   "source": [
    "import pandas as pd"
   ]
  },
  {
   "cell_type": "code",
   "execution_count": 2,
   "metadata": {},
   "outputs": [],
   "source": [
    "ct = pd.read_csv(\"Binary_ct.csv\", header = 0)\n",
    "cluster = pd.read_csv(\"Binary_clu.csv\", header = 0)"
   ]
  },
  {
   "cell_type": "code",
   "execution_count": 3,
   "metadata": {},
   "outputs": [
    {
     "data": {
      "text/html": [
       "<div>\n",
       "<style scoped>\n",
       "    .dataframe tbody tr th:only-of-type {\n",
       "        vertical-align: middle;\n",
       "    }\n",
       "\n",
       "    .dataframe tbody tr th {\n",
       "        vertical-align: top;\n",
       "    }\n",
       "\n",
       "    .dataframe thead th {\n",
       "        text-align: right;\n",
       "    }\n",
       "</style>\n",
       "<table border=\"1\" class=\"dataframe\">\n",
       "  <thead>\n",
       "    <tr style=\"text-align: right;\">\n",
       "      <th></th>\n",
       "      <th>Unnamed: 0</th>\n",
       "      <th>x</th>\n",
       "    </tr>\n",
       "  </thead>\n",
       "  <tbody>\n",
       "    <tr>\n",
       "      <th>0</th>\n",
       "      <td>AAACGAAAGCGCAATG-1</td>\n",
       "      <td>CD14+ Monocytes</td>\n",
       "    </tr>\n",
       "    <tr>\n",
       "      <th>1</th>\n",
       "      <td>AAACGAAAGGGTATCG-1</td>\n",
       "      <td>CD14+ Monocytes</td>\n",
       "    </tr>\n",
       "    <tr>\n",
       "      <th>2</th>\n",
       "      <td>AAACGAAAGTTACACC-1</td>\n",
       "      <td>CD8 effector</td>\n",
       "    </tr>\n",
       "    <tr>\n",
       "      <th>3</th>\n",
       "      <td>AAACGAACAGAGATGC-1</td>\n",
       "      <td>CD14+ Monocytes</td>\n",
       "    </tr>\n",
       "    <tr>\n",
       "      <th>4</th>\n",
       "      <td>AAACGAACATGCTATG-1</td>\n",
       "      <td>CD14+ Monocytes</td>\n",
       "    </tr>\n",
       "  </tbody>\n",
       "</table>\n",
       "</div>"
      ],
      "text/plain": [
       "           Unnamed: 0                x\n",
       "0  AAACGAAAGCGCAATG-1  CD14+ Monocytes\n",
       "1  AAACGAAAGGGTATCG-1  CD14+ Monocytes\n",
       "2  AAACGAAAGTTACACC-1     CD8 effector\n",
       "3  AAACGAACAGAGATGC-1  CD14+ Monocytes\n",
       "4  AAACGAACATGCTATG-1  CD14+ Monocytes"
      ]
     },
     "execution_count": 3,
     "metadata": {},
     "output_type": "execute_result"
    }
   ],
   "source": [
    "ct.head()"
   ]
  },
  {
   "cell_type": "code",
   "execution_count": 4,
   "metadata": {},
   "outputs": [],
   "source": [
    "ct = ct.rename(columns={\"Unnamed: 0\": \"ATAC\", \"x\":\"Cell type\"})"
   ]
  },
  {
   "cell_type": "code",
   "execution_count": 5,
   "metadata": {},
   "outputs": [
    {
     "data": {
      "text/html": [
       "<div>\n",
       "<style scoped>\n",
       "    .dataframe tbody tr th:only-of-type {\n",
       "        vertical-align: middle;\n",
       "    }\n",
       "\n",
       "    .dataframe tbody tr th {\n",
       "        vertical-align: top;\n",
       "    }\n",
       "\n",
       "    .dataframe thead th {\n",
       "        text-align: right;\n",
       "    }\n",
       "</style>\n",
       "<table border=\"1\" class=\"dataframe\">\n",
       "  <thead>\n",
       "    <tr style=\"text-align: right;\">\n",
       "      <th></th>\n",
       "      <th>Unnamed: 0</th>\n",
       "      <th>x</th>\n",
       "    </tr>\n",
       "  </thead>\n",
       "  <tbody>\n",
       "    <tr>\n",
       "      <th>0</th>\n",
       "      <td>AAACGAAAGCGCAATG-1</td>\n",
       "      <td>7</td>\n",
       "    </tr>\n",
       "    <tr>\n",
       "      <th>1</th>\n",
       "      <td>AAACGAAAGGGTATCG-1</td>\n",
       "      <td>0</td>\n",
       "    </tr>\n",
       "    <tr>\n",
       "      <th>2</th>\n",
       "      <td>AAACGAAAGTTACACC-1</td>\n",
       "      <td>4</td>\n",
       "    </tr>\n",
       "    <tr>\n",
       "      <th>3</th>\n",
       "      <td>AAACGAACAGAGATGC-1</td>\n",
       "      <td>0</td>\n",
       "    </tr>\n",
       "    <tr>\n",
       "      <th>4</th>\n",
       "      <td>AAACGAACATGCTATG-1</td>\n",
       "      <td>0</td>\n",
       "    </tr>\n",
       "  </tbody>\n",
       "</table>\n",
       "</div>"
      ],
      "text/plain": [
       "           Unnamed: 0  x\n",
       "0  AAACGAAAGCGCAATG-1  7\n",
       "1  AAACGAAAGGGTATCG-1  0\n",
       "2  AAACGAAAGTTACACC-1  4\n",
       "3  AAACGAACAGAGATGC-1  0\n",
       "4  AAACGAACATGCTATG-1  0"
      ]
     },
     "execution_count": 5,
     "metadata": {},
     "output_type": "execute_result"
    }
   ],
   "source": [
    "cluster.head()"
   ]
  },
  {
   "cell_type": "code",
   "execution_count": 6,
   "metadata": {},
   "outputs": [],
   "source": [
    "cluster = cluster.rename(columns={\"Unnamed: 0\": \"ATAC1\", \"x\":\"Clusters\"})"
   ]
  },
  {
   "cell_type": "code",
   "execution_count": 7,
   "metadata": {},
   "outputs": [
    {
     "name": "stdout",
     "output_type": "stream",
     "text": [
      "3834\n"
     ]
    }
   ],
   "source": [
    "print(len(ct))"
   ]
  },
  {
   "cell_type": "code",
   "execution_count": 8,
   "metadata": {
    "scrolled": true
   },
   "outputs": [
    {
     "name": "stdout",
     "output_type": "stream",
     "text": [
      "3834\n"
     ]
    }
   ],
   "source": [
    "print(len(cluster))"
   ]
  },
  {
   "cell_type": "code",
   "execution_count": null,
   "metadata": {},
   "outputs": [],
   "source": [
    "cluster.loc[cluster[\"ATAC1\"]=='AAACGAAAGCGCAATG-1']"
   ]
  },
  {
   "cell_type": "code",
   "execution_count": null,
   "metadata": {},
   "outputs": [],
   "source": [
    "ID_clu={}\n",
    "for i in range(0,len(cluster)):\n",
    "    ID=cluster.iloc[i,0]\n",
    "    iden=cluster.iloc[i,1]\n",
    "    ID_clu[ID]=iden"
   ]
  },
  {
   "cell_type": "code",
   "execution_count": null,
   "metadata": {},
   "outputs": [],
   "source": [
    "ID_clu.items()"
   ]
  },
  {
   "cell_type": "code",
   "execution_count": null,
   "metadata": {},
   "outputs": [],
   "source": [
    "# ID = list(ct.ATAC)"
   ]
  },
  {
   "cell_type": "code",
   "execution_count": null,
   "metadata": {},
   "outputs": [],
   "source": [
    "# ct[\"Cluster\"]=\"\""
   ]
  },
  {
   "cell_type": "code",
   "execution_count": null,
   "metadata": {},
   "outputs": [],
   "source": [
    "# ct.head()"
   ]
  },
  {
   "cell_type": "code",
   "execution_count": null,
   "metadata": {},
   "outputs": [],
   "source": [
    "# import matplotlib as mpl\n",
    "# from matplotlib_venn import venn2\n",
    "# from matplotlib import pyplot as plt\n",
    "# %matplotlib inline"
   ]
  },
  {
   "cell_type": "code",
   "execution_count": null,
   "metadata": {},
   "outputs": [],
   "source": [
    "# plt.figure(figsize=(4,4))\n",
    "# v_BP = venn2([set(ct.ATAC), set(cluster.ATAC1)],set_labels = ('ct', 'cluster'))\n",
    "# plt.show"
   ]
  },
  {
   "cell_type": "code",
   "execution_count": null,
   "metadata": {},
   "outputs": [],
   "source": [
    "# print(list(set(ct.ATAC).intersection(set(cluster.ATAC1))))"
   ]
  },
  {
   "cell_type": "code",
   "execution_count": null,
   "metadata": {},
   "outputs": [],
   "source": [
    "filtered={}\n",
    "wanted_keys = list(ct.ATAC) # The keys you want\n",
    "for k in wanted_keys:\n",
    "    if k in ID_clu:\n",
    "        filtered[k]= ID_clu[k] "
   ]
  },
  {
   "cell_type": "code",
   "execution_count": null,
   "metadata": {},
   "outputs": [],
   "source": [
    "filtered.items()"
   ]
  },
  {
   "cell_type": "code",
   "execution_count": null,
   "metadata": {},
   "outputs": [],
   "source": [
    "df = pd.DataFrame(filtered.items(), columns=['ATAC2','Clusters'])"
   ]
  },
  {
   "cell_type": "code",
   "execution_count": null,
   "metadata": {},
   "outputs": [],
   "source": [
    "df.head()"
   ]
  },
  {
   "cell_type": "code",
   "execution_count": 9,
   "metadata": {},
   "outputs": [],
   "source": [
    "result = pd.concat([ct, cluster], axis=1, sort=False)"
   ]
  },
  {
   "cell_type": "code",
   "execution_count": 10,
   "metadata": {
    "scrolled": true
   },
   "outputs": [
    {
     "data": {
      "text/html": [
       "<div>\n",
       "<style scoped>\n",
       "    .dataframe tbody tr th:only-of-type {\n",
       "        vertical-align: middle;\n",
       "    }\n",
       "\n",
       "    .dataframe tbody tr th {\n",
       "        vertical-align: top;\n",
       "    }\n",
       "\n",
       "    .dataframe thead th {\n",
       "        text-align: right;\n",
       "    }\n",
       "</style>\n",
       "<table border=\"1\" class=\"dataframe\">\n",
       "  <thead>\n",
       "    <tr style=\"text-align: right;\">\n",
       "      <th></th>\n",
       "      <th>ATAC</th>\n",
       "      <th>Cell type</th>\n",
       "      <th>ATAC1</th>\n",
       "      <th>Clusters</th>\n",
       "    </tr>\n",
       "  </thead>\n",
       "  <tbody>\n",
       "    <tr>\n",
       "      <th>0</th>\n",
       "      <td>AAACGAAAGCGCAATG-1</td>\n",
       "      <td>CD14+ Monocytes</td>\n",
       "      <td>AAACGAAAGCGCAATG-1</td>\n",
       "      <td>7</td>\n",
       "    </tr>\n",
       "    <tr>\n",
       "      <th>1</th>\n",
       "      <td>AAACGAAAGGGTATCG-1</td>\n",
       "      <td>CD14+ Monocytes</td>\n",
       "      <td>AAACGAAAGGGTATCG-1</td>\n",
       "      <td>0</td>\n",
       "    </tr>\n",
       "    <tr>\n",
       "      <th>2</th>\n",
       "      <td>AAACGAAAGTTACACC-1</td>\n",
       "      <td>CD8 effector</td>\n",
       "      <td>AAACGAAAGTTACACC-1</td>\n",
       "      <td>4</td>\n",
       "    </tr>\n",
       "    <tr>\n",
       "      <th>3</th>\n",
       "      <td>AAACGAACAGAGATGC-1</td>\n",
       "      <td>CD14+ Monocytes</td>\n",
       "      <td>AAACGAACAGAGATGC-1</td>\n",
       "      <td>0</td>\n",
       "    </tr>\n",
       "    <tr>\n",
       "      <th>4</th>\n",
       "      <td>AAACGAACATGCTATG-1</td>\n",
       "      <td>CD14+ Monocytes</td>\n",
       "      <td>AAACGAACATGCTATG-1</td>\n",
       "      <td>0</td>\n",
       "    </tr>\n",
       "    <tr>\n",
       "      <th>5</th>\n",
       "      <td>AAACGAAGTGCATCAT-1</td>\n",
       "      <td>CD14+ Monocytes</td>\n",
       "      <td>AAACGAAGTGCATCAT-1</td>\n",
       "      <td>0</td>\n",
       "    </tr>\n",
       "    <tr>\n",
       "      <th>6</th>\n",
       "      <td>AAACGAAGTGGACGAT-1</td>\n",
       "      <td>CD14+ Monocytes</td>\n",
       "      <td>AAACGAAGTGGACGAT-1</td>\n",
       "      <td>7</td>\n",
       "    </tr>\n",
       "    <tr>\n",
       "      <th>7</th>\n",
       "      <td>AAACGAAGTGGCCTCA-1</td>\n",
       "      <td>CD14+ Monocytes</td>\n",
       "      <td>AAACGAAGTGGCCTCA-1</td>\n",
       "      <td>7</td>\n",
       "    </tr>\n",
       "    <tr>\n",
       "      <th>8</th>\n",
       "      <td>AAACGAATCAGTGTAC-1</td>\n",
       "      <td>CD14+ Monocytes</td>\n",
       "      <td>AAACGAATCAGTGTAC-1</td>\n",
       "      <td>0</td>\n",
       "    </tr>\n",
       "    <tr>\n",
       "      <th>9</th>\n",
       "      <td>AAACGAATCCCACTTG-1</td>\n",
       "      <td>CD8 effector</td>\n",
       "      <td>AAACGAATCCCACTTG-1</td>\n",
       "      <td>4</td>\n",
       "    </tr>\n",
       "    <tr>\n",
       "      <th>10</th>\n",
       "      <td>AAACGAATCGAACACT-1</td>\n",
       "      <td>CD14+ Monocytes</td>\n",
       "      <td>AAACGAATCGAACACT-1</td>\n",
       "      <td>0</td>\n",
       "    </tr>\n",
       "    <tr>\n",
       "      <th>11</th>\n",
       "      <td>AAACGAATCGACTATG-1</td>\n",
       "      <td>CD8 Naive</td>\n",
       "      <td>AAACGAATCGACTATG-1</td>\n",
       "      <td>6</td>\n",
       "    </tr>\n",
       "    <tr>\n",
       "      <th>12</th>\n",
       "      <td>AAACGAATCGCAAGCC-1</td>\n",
       "      <td>CD4 Naive</td>\n",
       "      <td>AAACGAATCGCAAGCC-1</td>\n",
       "      <td>2</td>\n",
       "    </tr>\n",
       "    <tr>\n",
       "      <th>13</th>\n",
       "      <td>AAACGAATCGTCTTAT-1</td>\n",
       "      <td>CD8 Naive</td>\n",
       "      <td>AAACGAATCGTCTTAT-1</td>\n",
       "      <td>6</td>\n",
       "    </tr>\n",
       "    <tr>\n",
       "      <th>14</th>\n",
       "      <td>AAACTCGAGACTCGGA-1</td>\n",
       "      <td>CD14+ Monocytes</td>\n",
       "      <td>AAACTCGAGACTCGGA-1</td>\n",
       "      <td>3</td>\n",
       "    </tr>\n",
       "    <tr>\n",
       "      <th>15</th>\n",
       "      <td>AAACTCGAGGGTCCCT-1</td>\n",
       "      <td>Double negative T cell</td>\n",
       "      <td>AAACTCGAGGGTCCCT-1</td>\n",
       "      <td>5</td>\n",
       "    </tr>\n",
       "    <tr>\n",
       "      <th>16</th>\n",
       "      <td>AAACTCGCAATGATGA-1</td>\n",
       "      <td>Dendritic cell</td>\n",
       "      <td>AAACTCGCAATGATGA-1</td>\n",
       "      <td>12</td>\n",
       "    </tr>\n",
       "    <tr>\n",
       "      <th>17</th>\n",
       "      <td>AAACTCGCACACACAT-1</td>\n",
       "      <td>CD14+ Monocytes</td>\n",
       "      <td>AAACTCGCACACACAT-1</td>\n",
       "      <td>0</td>\n",
       "    </tr>\n",
       "    <tr>\n",
       "      <th>18</th>\n",
       "      <td>AAACTCGGTACAAATG-1</td>\n",
       "      <td>CD14+ Monocytes</td>\n",
       "      <td>AAACTCGGTACAAATG-1</td>\n",
       "      <td>0</td>\n",
       "    </tr>\n",
       "    <tr>\n",
       "      <th>19</th>\n",
       "      <td>AAACTCGGTCAGTGCC-1</td>\n",
       "      <td>CD8 Naive</td>\n",
       "      <td>AAACTCGGTCAGTGCC-1</td>\n",
       "      <td>6</td>\n",
       "    </tr>\n",
       "  </tbody>\n",
       "</table>\n",
       "</div>"
      ],
      "text/plain": [
       "                  ATAC               Cell type               ATAC1  Clusters\n",
       "0   AAACGAAAGCGCAATG-1         CD14+ Monocytes  AAACGAAAGCGCAATG-1         7\n",
       "1   AAACGAAAGGGTATCG-1         CD14+ Monocytes  AAACGAAAGGGTATCG-1         0\n",
       "2   AAACGAAAGTTACACC-1            CD8 effector  AAACGAAAGTTACACC-1         4\n",
       "3   AAACGAACAGAGATGC-1         CD14+ Monocytes  AAACGAACAGAGATGC-1         0\n",
       "4   AAACGAACATGCTATG-1         CD14+ Monocytes  AAACGAACATGCTATG-1         0\n",
       "5   AAACGAAGTGCATCAT-1         CD14+ Monocytes  AAACGAAGTGCATCAT-1         0\n",
       "6   AAACGAAGTGGACGAT-1         CD14+ Monocytes  AAACGAAGTGGACGAT-1         7\n",
       "7   AAACGAAGTGGCCTCA-1         CD14+ Monocytes  AAACGAAGTGGCCTCA-1         7\n",
       "8   AAACGAATCAGTGTAC-1         CD14+ Monocytes  AAACGAATCAGTGTAC-1         0\n",
       "9   AAACGAATCCCACTTG-1            CD8 effector  AAACGAATCCCACTTG-1         4\n",
       "10  AAACGAATCGAACACT-1         CD14+ Monocytes  AAACGAATCGAACACT-1         0\n",
       "11  AAACGAATCGACTATG-1               CD8 Naive  AAACGAATCGACTATG-1         6\n",
       "12  AAACGAATCGCAAGCC-1               CD4 Naive  AAACGAATCGCAAGCC-1         2\n",
       "13  AAACGAATCGTCTTAT-1               CD8 Naive  AAACGAATCGTCTTAT-1         6\n",
       "14  AAACTCGAGACTCGGA-1         CD14+ Monocytes  AAACTCGAGACTCGGA-1         3\n",
       "15  AAACTCGAGGGTCCCT-1  Double negative T cell  AAACTCGAGGGTCCCT-1         5\n",
       "16  AAACTCGCAATGATGA-1          Dendritic cell  AAACTCGCAATGATGA-1        12\n",
       "17  AAACTCGCACACACAT-1         CD14+ Monocytes  AAACTCGCACACACAT-1         0\n",
       "18  AAACTCGGTACAAATG-1         CD14+ Monocytes  AAACTCGGTACAAATG-1         0\n",
       "19  AAACTCGGTCAGTGCC-1               CD8 Naive  AAACTCGGTCAGTGCC-1         6"
      ]
     },
     "execution_count": 10,
     "metadata": {},
     "output_type": "execute_result"
    }
   ],
   "source": [
    "result.head(20)"
   ]
  },
  {
   "cell_type": "code",
   "execution_count": 11,
   "metadata": {},
   "outputs": [],
   "source": [
    "result = result.drop(columns=['ATAC1'])"
   ]
  },
  {
   "cell_type": "code",
   "execution_count": 12,
   "metadata": {},
   "outputs": [],
   "source": [
    "celltype = []\n",
    "for i in result[\"Cell type\"]:\n",
    "    if i not in celltype:\n",
    "        celltype.append(i)"
   ]
  },
  {
   "cell_type": "code",
   "execution_count": 13,
   "metadata": {},
   "outputs": [],
   "source": [
    "celltype.sort()"
   ]
  },
  {
   "cell_type": "code",
   "execution_count": 14,
   "metadata": {},
   "outputs": [
    {
     "data": {
      "text/plain": [
       "['B cell progenitor',\n",
       " 'CD14+ Monocytes',\n",
       " 'CD16+ Monocytes',\n",
       " 'CD4 Memory',\n",
       " 'CD4 Naive',\n",
       " 'CD8 Naive',\n",
       " 'CD8 effector',\n",
       " 'Dendritic cell',\n",
       " 'Double negative T cell',\n",
       " 'NK cell',\n",
       " 'Platelets',\n",
       " 'pDC',\n",
       " 'pre-B cell']"
      ]
     },
     "execution_count": 14,
     "metadata": {},
     "output_type": "execute_result"
    }
   ],
   "source": [
    "celltype"
   ]
  },
  {
   "cell_type": "code",
   "execution_count": 15,
   "metadata": {},
   "outputs": [],
   "source": [
    "clu = []\n",
    "for i in result[\"Clusters\"]:\n",
    "    if i not in clu:\n",
    "        clu.append(i)"
   ]
  },
  {
   "cell_type": "code",
   "execution_count": 16,
   "metadata": {},
   "outputs": [],
   "source": [
    "clu.sort()"
   ]
  },
  {
   "cell_type": "code",
   "execution_count": 17,
   "metadata": {},
   "outputs": [
    {
     "data": {
      "text/plain": [
       "[0, 1, 2, 3, 4, 5, 6, 7, 8, 9, 10, 11, 12, 13]"
      ]
     },
     "execution_count": 17,
     "metadata": {},
     "output_type": "execute_result"
    }
   ],
   "source": [
    "clu"
   ]
  },
  {
   "cell_type": "code",
   "execution_count": 18,
   "metadata": {},
   "outputs": [],
   "source": [
    "import seaborn as sns\n",
    "import matplotlib.pyplot as plt"
   ]
  },
  {
   "cell_type": "code",
   "execution_count": 19,
   "metadata": {},
   "outputs": [],
   "source": [
    "b0 = result[result[\"Clusters\"]==0]"
   ]
  },
  {
   "cell_type": "code",
   "execution_count": 20,
   "metadata": {},
   "outputs": [
    {
     "data": {
      "text/html": [
       "<div>\n",
       "<style scoped>\n",
       "    .dataframe tbody tr th:only-of-type {\n",
       "        vertical-align: middle;\n",
       "    }\n",
       "\n",
       "    .dataframe tbody tr th {\n",
       "        vertical-align: top;\n",
       "    }\n",
       "\n",
       "    .dataframe thead th {\n",
       "        text-align: right;\n",
       "    }\n",
       "</style>\n",
       "<table border=\"1\" class=\"dataframe\">\n",
       "  <thead>\n",
       "    <tr style=\"text-align: right;\">\n",
       "      <th></th>\n",
       "      <th>ATAC</th>\n",
       "      <th>Cell type</th>\n",
       "      <th>Clusters</th>\n",
       "    </tr>\n",
       "  </thead>\n",
       "  <tbody>\n",
       "    <tr>\n",
       "      <th>1</th>\n",
       "      <td>AAACGAAAGGGTATCG-1</td>\n",
       "      <td>CD14+ Monocytes</td>\n",
       "      <td>0</td>\n",
       "    </tr>\n",
       "    <tr>\n",
       "      <th>3</th>\n",
       "      <td>AAACGAACAGAGATGC-1</td>\n",
       "      <td>CD14+ Monocytes</td>\n",
       "      <td>0</td>\n",
       "    </tr>\n",
       "    <tr>\n",
       "      <th>4</th>\n",
       "      <td>AAACGAACATGCTATG-1</td>\n",
       "      <td>CD14+ Monocytes</td>\n",
       "      <td>0</td>\n",
       "    </tr>\n",
       "    <tr>\n",
       "      <th>5</th>\n",
       "      <td>AAACGAAGTGCATCAT-1</td>\n",
       "      <td>CD14+ Monocytes</td>\n",
       "      <td>0</td>\n",
       "    </tr>\n",
       "    <tr>\n",
       "      <th>8</th>\n",
       "      <td>AAACGAATCAGTGTAC-1</td>\n",
       "      <td>CD14+ Monocytes</td>\n",
       "      <td>0</td>\n",
       "    </tr>\n",
       "    <tr>\n",
       "      <th>...</th>\n",
       "      <td>...</td>\n",
       "      <td>...</td>\n",
       "      <td>...</td>\n",
       "    </tr>\n",
       "    <tr>\n",
       "      <th>3821</th>\n",
       "      <td>TTTGGCCTCGTGGTAT-1</td>\n",
       "      <td>CD14+ Monocytes</td>\n",
       "      <td>0</td>\n",
       "    </tr>\n",
       "    <tr>\n",
       "      <th>3822</th>\n",
       "      <td>TTTGGTTAGGGCATTG-1</td>\n",
       "      <td>CD14+ Monocytes</td>\n",
       "      <td>0</td>\n",
       "    </tr>\n",
       "    <tr>\n",
       "      <th>3824</th>\n",
       "      <td>TTTGGTTCACGCCGAT-1</td>\n",
       "      <td>CD14+ Monocytes</td>\n",
       "      <td>0</td>\n",
       "    </tr>\n",
       "    <tr>\n",
       "      <th>3829</th>\n",
       "      <td>TTTGGTTTCAGTGGTT-1</td>\n",
       "      <td>CD14+ Monocytes</td>\n",
       "      <td>0</td>\n",
       "    </tr>\n",
       "    <tr>\n",
       "      <th>3830</th>\n",
       "      <td>TTTGTGTAGGAAACTT-1</td>\n",
       "      <td>CD14+ Monocytes</td>\n",
       "      <td>0</td>\n",
       "    </tr>\n",
       "  </tbody>\n",
       "</table>\n",
       "<p>1117 rows × 3 columns</p>\n",
       "</div>"
      ],
      "text/plain": [
       "                    ATAC        Cell type  Clusters\n",
       "1     AAACGAAAGGGTATCG-1  CD14+ Monocytes         0\n",
       "3     AAACGAACAGAGATGC-1  CD14+ Monocytes         0\n",
       "4     AAACGAACATGCTATG-1  CD14+ Monocytes         0\n",
       "5     AAACGAAGTGCATCAT-1  CD14+ Monocytes         0\n",
       "8     AAACGAATCAGTGTAC-1  CD14+ Monocytes         0\n",
       "...                  ...              ...       ...\n",
       "3821  TTTGGCCTCGTGGTAT-1  CD14+ Monocytes         0\n",
       "3822  TTTGGTTAGGGCATTG-1  CD14+ Monocytes         0\n",
       "3824  TTTGGTTCACGCCGAT-1  CD14+ Monocytes         0\n",
       "3829  TTTGGTTTCAGTGGTT-1  CD14+ Monocytes         0\n",
       "3830  TTTGTGTAGGAAACTT-1  CD14+ Monocytes         0\n",
       "\n",
       "[1117 rows x 3 columns]"
      ]
     },
     "execution_count": 20,
     "metadata": {},
     "output_type": "execute_result"
    }
   ],
   "source": [
    "b0"
   ]
  },
  {
   "cell_type": "code",
   "execution_count": 21,
   "metadata": {
    "scrolled": true
   },
   "outputs": [],
   "source": [
    "b0 = result[result[\"Clusters\"]==0]\n",
    "b1 = result[result[\"Clusters\"]==1]\n",
    "b2 = result[result[\"Clusters\"]==2]\n",
    "b3 = result[result[\"Clusters\"]==3]\n",
    "b4 = result[result[\"Clusters\"]==4]\n",
    "b5 = result[result[\"Clusters\"]==5]\n",
    "b6 = result[result[\"Clusters\"]==6]\n",
    "b7 = result[result[\"Clusters\"]==7]\n",
    "b8 = result[result[\"Clusters\"]==8]\n",
    "b9 = result[result[\"Clusters\"]==9]\n",
    "b10 = result[result[\"Clusters\"]==10]\n",
    "b11 = result[result[\"Clusters\"]==11]\n",
    "b12 = result[result[\"Clusters\"]==12]\n",
    "b13 = result[result[\"Clusters\"]==13]"
   ]
  },
  {
   "cell_type": "code",
   "execution_count": null,
   "metadata": {},
   "outputs": [],
   "source": [
    "# B_cell_progenitor = result[result[\"Cell type\"]==\"pro-B\"]\n",
    "# CD14_Monocytes = result[result[\"Cell type\"]==\"CD14 Mono\"]\n",
    "# CD16_Monocytes = result[result[\"Cell type\"]==\"CD16 Mono\"]\n",
    "# CD4_Memory = result[result[\"Cell type\"]==\"CD4 Memory\"]\n",
    "# CD4_Naive = result[result[\"Cell type\"]==\"CD4 Naive\"]\n",
    "# CD8_Naive = result[result[\"Cell type\"]==\"CD8 Naive\"]\n",
    "# CD8_effector = result[result[\"Cell type\"]==\"CD8 Effector\"]\n",
    "# Dendritic_cell = result[result[\"Cell type\"]==\"DC\"]\n",
    "# Double_negative_T_cell = result[result[\"Cell type\"]==\"DN T\"]\n",
    "# NK_cell = result[result[\"Cell type\"]==\"NK\"]\n",
    "# pDC = result[result[\"Cell type\"]==\"pDC\"]\n",
    "# pre_B_cell = result[result[\"Cell type\"]==\"pre-B\"]"
   ]
  },
  {
   "cell_type": "code",
   "execution_count": null,
   "metadata": {
    "scrolled": true
   },
   "outputs": [],
   "source": [
    "# CD4_Memory.head(30)"
   ]
  },
  {
   "cell_type": "code",
   "execution_count": null,
   "metadata": {},
   "outputs": [],
   "source": [
    "list(b0[\"Cell type\"])"
   ]
  },
  {
   "cell_type": "code",
   "execution_count": null,
   "metadata": {},
   "outputs": [],
   "source": [
    "# a = list(B_cell_progenitor.Clusters)\n",
    "# b = list(CD14_Monocytes.Clusters)\n",
    "# c = list(CD16_Monocytes.Clusters)\n",
    "# d = list(CD4_Memory.Clusters)\n",
    "# e = list(CD4_Naive.Clusters)\n",
    "# f = list(CD8_Naive.Clusters)\n",
    "# g = list(CD8_effector.Clusters)\n",
    "# h = list(Dendritic_cell.Clusters)\n",
    "# i = list(Double_negative_T_cell.Clusters)\n",
    "# j = list(NK_cell.Clusters)\n",
    "# k = list(pDC.Clusters)\n",
    "# l = list(pre_B_cell.Clusters)"
   ]
  },
  {
   "cell_type": "code",
   "execution_count": 22,
   "metadata": {},
   "outputs": [],
   "source": [
    "a = list(b0[\"Cell type\"])\n",
    "b = list(b1[\"Cell type\"])\n",
    "c = list(b2[\"Cell type\"])\n",
    "d = list(b3[\"Cell type\"])\n",
    "e = list(b4[\"Cell type\"])\n",
    "f = list(b5[\"Cell type\"])\n",
    "g = list(b6[\"Cell type\"])\n",
    "h = list(b7[\"Cell type\"])\n",
    "i = list(b8[\"Cell type\"])\n",
    "j = list(b9[\"Cell type\"])\n",
    "k = list(b10[\"Cell type\"])\n",
    "l = list(b11[\"Cell type\"])\n",
    "m = list(b12[\"Cell type\"])\n",
    "n = list(b13[\"Cell type\"])"
   ]
  },
  {
   "cell_type": "code",
   "execution_count": null,
   "metadata": {},
   "outputs": [],
   "source": [
    "a"
   ]
  },
  {
   "cell_type": "code",
   "execution_count": null,
   "metadata": {},
   "outputs": [],
   "source": [
    "# ['CD14 Mono',\n",
    "#  'CD16 Mono',\n",
    "#  'CD4 Memory',\n",
    "#  'CD4 Naive',\n",
    "#  'CD8 Effector',\n",
    "#  'CD8 Naive',\n",
    "#  'DC',\n",
    "#  'DN T',\n",
    "#  'NK',\n",
    "#  'pDC',\n",
    "#  'pre-B',\n",
    "#  'pro-B']"
   ]
  },
  {
   "cell_type": "code",
   "execution_count": null,
   "metadata": {},
   "outputs": [],
   "source": [
    "# 'B cell progenitor',\n",
    "#  'CD14+ Monocytes',\n",
    "#  'CD16+ Monocytes',\n",
    "#  'CD4 Memory',\n",
    "#  'CD4 Naive',\n",
    "#  'CD8 Naive',\n",
    "#  'CD8 effector',\n",
    "#  'Dendritic cell',\n",
    "#  'Double negative T cell',\n",
    "#  'NK cell',\n",
    "#  'Platelets',\n",
    "#  'pDC',\n",
    "#  'pre-B cell'"
   ]
  },
  {
   "cell_type": "code",
   "execution_count": 23,
   "metadata": {},
   "outputs": [
    {
     "data": {
      "text/plain": [
       "0"
      ]
     },
     "execution_count": 23,
     "metadata": {},
     "output_type": "execute_result"
    }
   ],
   "source": [
    "f.count('CD14+ Monocytes')"
   ]
  },
  {
   "cell_type": "code",
   "execution_count": 24,
   "metadata": {},
   "outputs": [
    {
     "data": {
      "text/plain": [
       "1111"
      ]
     },
     "execution_count": 24,
     "metadata": {},
     "output_type": "execute_result"
    }
   ],
   "source": [
    "a.count('CD14+ Monocytes')"
   ]
  },
  {
   "cell_type": "code",
   "execution_count": null,
   "metadata": {},
   "outputs": [],
   "source": [
    "# B_cell_progenitor = (a.count(0), a.count(1), a.count(2), a.count(3), a.count(4), a.count(5), a.count(6), a.count(7), a.count(8))\n",
    "# CD14_Monocytes = (b.count(0), b.count(1), b.count(2), b.count(3), b.count(4), b.count(5), b.count(6), b.count(7), b.count(8))\n",
    "# CD16_Monocytes = (c.count(0), c.count(1), c.count(2), c.count(3), c.count(4), c.count(5), c.count(6), c.count(7), c.count(8))\n",
    "# CD4_Memory = (d.count(0), d.count(1), d.count(2), d.count(3), d.count(4), d.count(5), d.count(6), d.count(7), d.count(8))\n",
    "# CD4_Naive = (e.count(0), e.count(1), e.count(2), e.count(3), e.count(4), e.count(5), e.count(6), e.count(7), e.count(8))\n",
    "# CD8_Naive = (f.count(0), f.count(1), f.count(2), f.count(3), f.count(4), f.count(5), f.count(6), f.count(7), f.count(8))\n",
    "# CD8_effector = (g.count(0), g.count(1), g.count(2), g.count(3), g.count(4), g.count(5), g.count(6), g.count(7), g.count(8))\n",
    "# Dendritic_cell = (h.count(0), h.count(1), h.count(2), h.count(3), h.count(4), h.count(5), h.count(6), h.count(7), h.count(8))\n",
    "# Double_negative_T_cell = (i.count(0), i.count(1), i.count(2), i.count(3), i.count(4), i.count(5), i.count(6), i.count(7), i.count(8))\n",
    "# NK_cell = (j.count(0), j.count(1), j.count(2), j.count(3), j.count(4), j.count(5), j.count(6), j.count(7), j.count(8))\n",
    "# pDC = (k.count(0), k.count(1), k.count(2), k.count(3), k.count(4), k.count(5), k.count(6), k.count(7), k.count(8))\n",
    "# pre_B_cell =  (l.count(0), l.count(1), l.count(2), l.count(3), l.count(4), l.count(5), l.count(6), l.count(7), l.count(8))\n",
    "\n"
   ]
  },
  {
   "cell_type": "code",
   "execution_count": null,
   "metadata": {},
   "outputs": [],
   "source": [
    "# ['B cell progenitor',\n",
    "#  'CD14+ Monocytes',\n",
    "#  'CD16+ Monocytes',\n",
    "#  'CD4 Memory',\n",
    "#  'CD4 Naive',\n",
    "#  'CD8 Naive',\n",
    "#  'CD8 effector',\n",
    "#  'Dendritic cell',\n",
    "#  'Double negative T cell',\n",
    "#  'NK cell',\n",
    "#  'Platelets',\n",
    "#  'pDC',\n",
    "#  'pre-B cell']"
   ]
  },
  {
   "cell_type": "code",
   "execution_count": null,
   "metadata": {},
   "outputs": [],
   "source": [
    "# b0 = (a.count('B cell progenitor'), a.count('CD14+ Monocytes'), a.count('CD16+ Monocytes'), a.count('CD4 Memory'), a.count('CD4 Naive'), a.count('CD8 Naive'), a.count('CD8 effector'), a.count('Dendritic cell'), a.count('Double negative T cell'), a.count('NK cell'), a.count('Platelets'), a.count('pDC'), a.count('pre-B cell'))\n",
    "# b1 = (b.count('B cell progenitor'), b.count('CD14+ Monocytes'), b.count('CD16+ Monocytes'), b.count('CD4 Memory'), b.count('CD4 Naive'), b.count('CD8 Naive'), b.count('CD8 effector'), b.count('Dendritic cell'), b.count('Double negative T cell'), b.count('NK cell'), b.count('Platelets'), b.count('pDC'), b.count('pre-B cell'))\n",
    "# b2 = (c.count('B cell progenitor'), c.count('CD14+ Monocytes'), c.count('CD16+ Monocytes'), c.count('CD4 Memory'), c.count('CD4 Naive'), c.count('CD8 Naive'), c.count('CD8 effector'), c.count('Dendritic cell'), c.count('Double negative T cell'), c.count('NK cell'), c.count('Platelets'), c.count('pDC'), c.count('pre-B cell'))\n",
    "# b3 = (d.count('B cell progenitor'), d.count('CD14+ Monocytes'), d.count('CD16+ Monocytes'), d.count('CD4 Memory'), d.count('CD4 Naive'), d.count('CD8 Naive'), d.count('CD8 effector'), d.count('Dendritic cell'), d.count('Double negative T cell'), d.count('NK cell'), d.count('Platelets'), d.count('pDC'), d.count('pre-B cell'))\n",
    "# b4 = (e.count('B cell progenitor'), e.count('CD14+ Monocytes'), e.count('CD16+ Monocytes'), e.count('CD4 Memory'), e.count('CD4 Naive'), e.count('CD8 Naive'), e.count('CD8 effector'), e.count('Dendritic cell'), e.count('Double negative T cell'), e.count('NK cell'), e.count('Platelets'), e.count('pDC'), e.count('pre-B cell'))\n",
    "# b5 = (f.count('B cell progenitor'), f.count('CD14+ Monocytes'), f.count('CD16+ Monocytes'), f.count('CD4 Memory'), f.count('CD4 Naive'), f.count('CD8 Naive'), f.count('CD8 effector'), f.count('Dendritic cell'), f.count('Double negative T cell'), f.count('NK cell'), f.count('Platelets'), f.count('pDC'), f.count('pre-B cell'))\n",
    "# b6 = (g.count('B cell progenitor'), g.count('CD14+ Monocytes'), g.count('CD16+ Monocytes'), g.count('CD4 Memory'), g.count('CD4 Naive'), g.count('CD8 Naive'), g.count('CD8 effector'), g.count('Dendritic cell'), g.count('Double negative T cell'), g.count('NK cell'), g.count('Platelets'), g.count('pDC'), g.count('pre-B cell'))\n",
    "# b7 = (h.count('B cell progenitor'), h.count('CD14+ Monocytes'), h.count('CD16+ Monocytes'), h.count('CD4 Memory'), h.count('CD4 Naive'), h.count('CD8 Naive'), h.count('CD8 effector'), h.count('Dendritic cell'), h.count('Double negative T cell'), h.count('NK cell'), h.count('Platelets'), h.count('pDC'), h.count('pre-B cell'))\n",
    "# b8 = (i.count('B cell progenitor'), i.count('CD14+ Monocytes'), i.count('CD16+ Monocytes'), i.count('CD4 Memory'), i.count('CD4 Naive'), i.count('CD8 Naive'), i.count('CD8 effector'), i.count('Dendritic cell'), i.count('Double negative T cell'), i.count('NK cell'), i.count('Platelets'), i.count('pDC'), i.count('pre-B cell'))\n"
   ]
  },
  {
   "cell_type": "code",
   "execution_count": 25,
   "metadata": {},
   "outputs": [],
   "source": [
    "b0 = (a.count('B cell progenitor'), a.count('CD14+ Monocytes'), a.count('CD16+ Monocytes'), a.count('CD4 Memory'), a.count('CD4 Naive'), a.count('CD8 Naive'), a.count('CD8 effector'), a.count('Dendritic cell'), a.count('Double negative T cell'), a.count('NK cell'), a.count('Platelets'), a.count('pDC'), a.count('pre-B cell'))\n",
    "b1 = (b.count('B cell progenitor'), b.count('CD14+ Monocytes'), b.count('CD16+ Monocytes'), b.count('CD4 Memory'), b.count('CD4 Naive'), b.count('CD8 Naive'), b.count('CD8 effector'), b.count('Dendritic cell'), b.count('Double negative T cell'), b.count('NK cell'), b.count('Platelets'), b.count('pDC'), b.count('pre-B cell'))\n",
    "b2 = (c.count('B cell progenitor'), c.count('CD14+ Monocytes'), c.count('CD16+ Monocytes'), c.count('CD4 Memory'), c.count('CD4 Naive'), c.count('CD8 Naive'), c.count('CD8 effector'), c.count('Dendritic cell'), c.count('Double negative T cell'), c.count('NK cell'), c.count('Platelets'), c.count('pDC'), c.count('pre-B cell'))\n",
    "b3 = (d.count('B cell progenitor'), d.count('CD14+ Monocytes'), d.count('CD16+ Monocytes'), d.count('CD4 Memory'), d.count('CD4 Naive'), d.count('CD8 Naive'), d.count('CD8 effector'), d.count('Dendritic cell'), d.count('Double negative T cell'), d.count('NK cell'), d.count('Platelets'), d.count('pDC'), d.count('pre-B cell'))\n",
    "b4 = (e.count('B cell progenitor'), e.count('CD14+ Monocytes'), e.count('CD16+ Monocytes'), e.count('CD4 Memory'), e.count('CD4 Naive'), e.count('CD8 Naive'), e.count('CD8 effector'), e.count('Dendritic cell'), e.count('Double negative T cell'), e.count('NK cell'), e.count('Platelets'), e.count('pDC'), e.count('pre-B cell'))\n",
    "b5 = (f.count('B cell progenitor'), f.count('CD14+ Monocytes'), f.count('CD16+ Monocytes'), f.count('CD4 Memory'), f.count('CD4 Naive'), f.count('CD8 Naive'), f.count('CD8 effector'), f.count('Dendritic cell'), f.count('Double negative T cell'), f.count('NK cell'), f.count('Platelets'), f.count('pDC'), f.count('pre-B cell'))\n",
    "b6 = (g.count('B cell progenitor'), g.count('CD14+ Monocytes'), g.count('CD16+ Monocytes'), g.count('CD4 Memory'), g.count('CD4 Naive'), g.count('CD8 Naive'), g.count('CD8 effector'), g.count('Dendritic cell'), g.count('Double negative T cell'), g.count('NK cell'), g.count('Platelets'), g.count('pDC'), g.count('pre-B cell'))\n",
    "b7 = (h.count('B cell progenitor'), h.count('CD14+ Monocytes'), h.count('CD16+ Monocytes'), h.count('CD4 Memory'), h.count('CD4 Naive'), h.count('CD8 Naive'), h.count('CD8 effector'), h.count('Dendritic cell'), h.count('Double negative T cell'), h.count('NK cell'), h.count('Platelets'), h.count('pDC'), h.count('pre-B cell'))\n",
    "b8 = (i.count('B cell progenitor'), i.count('CD14+ Monocytes'), i.count('CD16+ Monocytes'), i.count('CD4 Memory'), i.count('CD4 Naive'), i.count('CD8 Naive'), i.count('CD8 effector'), i.count('Dendritic cell'), i.count('Double negative T cell'), i.count('NK cell'), i.count('Platelets'), i.count('pDC'), i.count('pre-B cell'))\n",
    "b9 = (j.count('B cell progenitor'), j.count('CD14+ Monocytes'), j.count('CD16+ Monocytes'), j.count('CD4 Memory'), j.count('CD4 Naive'), j.count('CD8 Naive'), j.count('CD8 effector'), j.count('Dendritic cell'), j.count('Double negative T cell'), j.count('NK cell'), j.count('Platelets'), j.count('pDC'), j.count('pre-B cell'))\n",
    "b10 = (k.count('B cell progenitor'), k.count('CD14+ Monocytes'), k.count('CD16+ Monocytes'), k.count('CD4 Memory'), k.count('CD4 Naive'), k.count('CD8 Naive'), k.count('CD8 effector'), k.count('Dendritic cell'), k.count('Double negative T cell'), k.count('NK cell'), k.count('Platelets'), k.count('pDC'), k.count('pre-B cell'))\n",
    "b11 = (l.count('B cell progenitor'), l.count('CD14+ Monocytes'), l.count('CD16+ Monocytes'), l.count('CD4 Memory'), l.count('CD4 Naive'), l.count('CD8 Naive'), l.count('CD8 effector'), l.count('Dendritic cell'), l.count('Double negative T cell'), l.count('NK cell'), l.count('Platelets'), l.count('pDC'), l.count('pre-B cell'))\n",
    "b12 = (m.count('B cell progenitor'), m.count('CD14+ Monocytes'), m.count('CD16+ Monocytes'), m.count('CD4 Memory'), m.count('CD4 Naive'), m.count('CD8 Naive'), m.count('CD8 effector'), m.count('Dendritic cell'), m.count('Double negative T cell'), m.count('NK cell'), m.count('Platelets'), m.count('pDC'), m.count('pre-B cell'))\n",
    "b13 = (n.count('B cell progenitor'), n.count('CD14+ Monocytes'), n.count('CD16+ Monocytes'), n.count('CD4 Memory'), n.count('CD4 Naive'), n.count('CD8 Naive'), n.count('CD8 effector'), n.count('Dendritic cell'), n.count('Double negative T cell'), n.count('NK cell'), n.count('Platelets'), n.count('pDC'), n.count('pre-B cell'))\n"
   ]
  },
  {
   "cell_type": "code",
   "execution_count": 26,
   "metadata": {},
   "outputs": [
    {
     "data": {
      "text/plain": [
       "(0, 1111, 1, 2, 1, 0, 0, 0, 0, 0, 1, 0, 1)"
      ]
     },
     "execution_count": 26,
     "metadata": {},
     "output_type": "execute_result"
    }
   ],
   "source": [
    "b0"
   ]
  },
  {
   "cell_type": "code",
   "execution_count": 27,
   "metadata": {},
   "outputs": [
    {
     "data": {
      "text/plain": [
       "(0, 1, 0, 0, 0, 0, 0, 0, 0, 182, 1, 0, 0)"
      ]
     },
     "execution_count": 27,
     "metadata": {},
     "output_type": "execute_result"
    }
   ],
   "source": [
    "b8"
   ]
  },
  {
   "cell_type": "code",
   "execution_count": 28,
   "metadata": {},
   "outputs": [
    {
     "data": {
      "text/plain": [
       "1117"
      ]
     },
     "execution_count": 28,
     "metadata": {},
     "output_type": "execute_result"
    }
   ],
   "source": [
    "sum(b0)"
   ]
  },
  {
   "cell_type": "code",
   "execution_count": null,
   "metadata": {},
   "outputs": [],
   "source": [
    "# myList = list(CD4_Memory)\n",
    "# myInt = sum(CD4_Memory)\n",
    "# newList = [x / myInt for x in myList]"
   ]
  },
  {
   "cell_type": "code",
   "execution_count": null,
   "metadata": {},
   "outputs": [],
   "source": [
    "# newList"
   ]
  },
  {
   "cell_type": "code",
   "execution_count": null,
   "metadata": {},
   "outputs": [],
   "source": [
    "# sum_b0 = sum(b0)\n",
    "# b0 = [a / sum_b0 for a in list(b0)]"
   ]
  },
  {
   "cell_type": "code",
   "execution_count": null,
   "metadata": {},
   "outputs": [],
   "source": [
    "# b0"
   ]
  },
  {
   "cell_type": "code",
   "execution_count": 29,
   "metadata": {},
   "outputs": [],
   "source": [
    "sum_b0 = sum(b0)\n",
    "b0 = [a / sum_b0 for a in list(b0)]\n",
    "\n",
    "sum_b1 = sum(b1)\n",
    "b1 = [b / sum_b1 for b in list(b1)]\n",
    "\n",
    "sum_b2 = sum(b2)\n",
    "b2 = [c / sum_b2 for c in list(b2)]\n",
    "\n",
    "sum_b3 = sum(b3)\n",
    "b3 = [d / sum_b3 for d in list(b3)]\n",
    "\n",
    "sum_b4 = sum(b4)\n",
    "b4 = [e / sum_b4 for e in list(b4)]\n",
    "\n",
    "sum_b5 = sum(b5)\n",
    "b5 = [f / sum_b5 for f in list(b5)]\n",
    "\n",
    "sum_b6 = sum(b6)\n",
    "b6 = [g / sum_b6 for g in list(b6)]\n",
    "\n",
    "sum_b7 = sum(b7)\n",
    "b7 = [h / sum_b7 for h in list(b7)]\n",
    "\n",
    "sum_b8 = sum(b8)\n",
    "b8 = [i / sum_b8 for i in list(b8)]\n",
    "\n",
    "sum_b9 = sum(b9)\n",
    "b9 = [j / sum_b9 for j in list(b9)]\n",
    "\n",
    "sum_b10 = sum(b10)\n",
    "b10 = [k / sum_b10 for k in list(b10)]\n",
    "\n",
    "sum_b11 = sum(b11)\n",
    "b11 = [l / sum_b11 for l in list(b11)]\n",
    "\n",
    "sum_b12 = sum(b12)\n",
    "b12 = [m / sum_b12 for m in list(b12)]\n",
    "\n",
    "sum_b13 = sum(b13)\n",
    "b13 = [n / sum_b13 for n in list(b13)]"
   ]
  },
  {
   "cell_type": "code",
   "execution_count": 30,
   "metadata": {},
   "outputs": [
    {
     "data": {
      "text/plain": [
       "[0.0,\n",
       " 0.9946284691136974,\n",
       " 0.0008952551477170994,\n",
       " 0.0017905102954341987,\n",
       " 0.0008952551477170994,\n",
       " 0.0,\n",
       " 0.0,\n",
       " 0.0,\n",
       " 0.0,\n",
       " 0.0,\n",
       " 0.0008952551477170994,\n",
       " 0.0,\n",
       " 0.0008952551477170994]"
      ]
     },
     "execution_count": 30,
     "metadata": {},
     "output_type": "execute_result"
    }
   ],
   "source": [
    "b0"
   ]
  },
  {
   "cell_type": "code",
   "execution_count": 31,
   "metadata": {},
   "outputs": [
    {
     "data": {
      "text/plain": [
       "[0.0,\n",
       " 0.00683371298405467,\n",
       " 0.0,\n",
       " 0.9407744874715261,\n",
       " 0.015945330296127564,\n",
       " 0.0,\n",
       " 0.009111617312072893,\n",
       " 0.0,\n",
       " 0.02733485193621868,\n",
       " 0.0,\n",
       " 0.0,\n",
       " 0.0,\n",
       " 0.0]"
      ]
     },
     "execution_count": 31,
     "metadata": {},
     "output_type": "execute_result"
    }
   ],
   "source": [
    "b1"
   ]
  },
  {
   "cell_type": "code",
   "execution_count": 35,
   "metadata": {},
   "outputs": [],
   "source": [
    "list_of_tuples = list(zip(b0,b1,b2,b3,b4,b5,b6,b7,b8,b9,b10,b11,b12,b13))"
   ]
  },
  {
   "cell_type": "code",
   "execution_count": 36,
   "metadata": {},
   "outputs": [
    {
     "data": {
      "text/plain": [
       "[(0.0,\n",
       "  0.0,\n",
       "  0.0,\n",
       "  0.0,\n",
       "  0.0,\n",
       "  0.0,\n",
       "  0.0,\n",
       "  0.0,\n",
       "  0.0,\n",
       "  0.0,\n",
       "  0.0,\n",
       "  0.9811320754716981,\n",
       "  0.0,\n",
       "  0.0),\n",
       " (0.9946284691136974,\n",
       "  0.00683371298405467,\n",
       "  0.0,\n",
       "  0.9901315789473685,\n",
       "  0.0,\n",
       "  0.0,\n",
       "  0.0,\n",
       "  1.0,\n",
       "  0.005434782608695652,\n",
       "  0.0,\n",
       "  0.14285714285714285,\n",
       "  0.0,\n",
       "  0.8235294117647058,\n",
       "  0.041666666666666664),\n",
       " (0.0008952551477170994,\n",
       "  0.0,\n",
       "  0.0,\n",
       "  0.0,\n",
       "  0.0,\n",
       "  0.0,\n",
       "  0.0,\n",
       "  0.0,\n",
       "  0.0,\n",
       "  0.0,\n",
       "  0.8421052631578947,\n",
       "  0.0,\n",
       "  0.0,\n",
       "  0.0),\n",
       " (0.0017905102954341987,\n",
       "  0.9407744874715261,\n",
       "  0.07197943444730077,\n",
       "  0.0,\n",
       "  0.04642857142857143,\n",
       "  0.0,\n",
       "  0.0,\n",
       "  0.0,\n",
       "  0.0,\n",
       "  0.0,\n",
       "  0.0,\n",
       "  0.0,\n",
       "  0.0,\n",
       "  0.0),\n",
       " (0.0008952551477170994,\n",
       "  0.015945330296127564,\n",
       "  0.8766066838046273,\n",
       "  0.003289473684210526,\n",
       "  0.0,\n",
       "  0.0,\n",
       "  0.00909090909090909,\n",
       "  0.0,\n",
       "  0.0,\n",
       "  0.0,\n",
       "  0.007518796992481203,\n",
       "  0.0,\n",
       "  0.0,\n",
       "  0.041666666666666664),\n",
       " (0.0,\n",
       "  0.0,\n",
       "  0.05141388174807198,\n",
       "  0.003289473684210526,\n",
       "  0.02142857142857143,\n",
       "  0.0,\n",
       "  0.990909090909091,\n",
       "  0.0,\n",
       "  0.0,\n",
       "  0.0,\n",
       "  0.0,\n",
       "  0.0,\n",
       "  0.0,\n",
       "  0.0),\n",
       " (0.0,\n",
       "  0.009111617312072893,\n",
       "  0.0,\n",
       "  0.0,\n",
       "  0.8964285714285715,\n",
       "  0.013452914798206279,\n",
       "  0.0,\n",
       "  0.0,\n",
       "  0.0,\n",
       "  0.0,\n",
       "  0.0,\n",
       "  0.0,\n",
       "  0.0,\n",
       "  0.0),\n",
       " (0.0,\n",
       "  0.0,\n",
       "  0.0,\n",
       "  0.0,\n",
       "  0.0,\n",
       "  0.0,\n",
       "  0.0,\n",
       "  0.0,\n",
       "  0.0,\n",
       "  0.0,\n",
       "  0.0,\n",
       "  0.0,\n",
       "  0.16176470588235295,\n",
       "  0.0),\n",
       " (0.0,\n",
       "  0.02733485193621868,\n",
       "  0.0,\n",
       "  0.0,\n",
       "  0.0,\n",
       "  0.9865470852017937,\n",
       "  0.0,\n",
       "  0.0,\n",
       "  0.0,\n",
       "  0.0,\n",
       "  0.007518796992481203,\n",
       "  0.0,\n",
       "  0.014705882352941176,\n",
       "  0.0),\n",
       " (0.0,\n",
       "  0.0,\n",
       "  0.0,\n",
       "  0.003289473684210526,\n",
       "  0.03571428571428571,\n",
       "  0.0,\n",
       "  0.0,\n",
       "  0.0,\n",
       "  0.9891304347826086,\n",
       "  0.0,\n",
       "  0.0,\n",
       "  0.0,\n",
       "  0.0,\n",
       "  0.0),\n",
       " (0.0008952551477170994,\n",
       "  0.0,\n",
       "  0.0,\n",
       "  0.0,\n",
       "  0.0,\n",
       "  0.0,\n",
       "  0.0,\n",
       "  0.0,\n",
       "  0.005434782608695652,\n",
       "  0.0,\n",
       "  0.0,\n",
       "  0.0,\n",
       "  0.0,\n",
       "  0.0),\n",
       " (0.0,\n",
       "  0.0,\n",
       "  0.0,\n",
       "  0.0,\n",
       "  0.0,\n",
       "  0.0,\n",
       "  0.0,\n",
       "  0.0,\n",
       "  0.0,\n",
       "  0.0,\n",
       "  0.0,\n",
       "  0.0,\n",
       "  0.0,\n",
       "  0.9166666666666666),\n",
       " (0.0008952551477170994,\n",
       "  0.0,\n",
       "  0.0,\n",
       "  0.0,\n",
       "  0.0,\n",
       "  0.0,\n",
       "  0.0,\n",
       "  0.0,\n",
       "  0.0,\n",
       "  1.0,\n",
       "  0.0,\n",
       "  0.018867924528301886,\n",
       "  0.0,\n",
       "  0.0)]"
      ]
     },
     "execution_count": 36,
     "metadata": {},
     "output_type": "execute_result"
    }
   ],
   "source": [
    "list_of_tuples"
   ]
  },
  {
   "cell_type": "code",
   "execution_count": 37,
   "metadata": {
    "scrolled": true
   },
   "outputs": [],
   "source": [
    "df = pd.DataFrame(list_of_tuples, columns = clu, index = celltype)"
   ]
  },
  {
   "cell_type": "code",
   "execution_count": 38,
   "metadata": {},
   "outputs": [
    {
     "data": {
      "text/html": [
       "<div>\n",
       "<style scoped>\n",
       "    .dataframe tbody tr th:only-of-type {\n",
       "        vertical-align: middle;\n",
       "    }\n",
       "\n",
       "    .dataframe tbody tr th {\n",
       "        vertical-align: top;\n",
       "    }\n",
       "\n",
       "    .dataframe thead th {\n",
       "        text-align: right;\n",
       "    }\n",
       "</style>\n",
       "<table border=\"1\" class=\"dataframe\">\n",
       "  <thead>\n",
       "    <tr style=\"text-align: right;\">\n",
       "      <th></th>\n",
       "      <th>0</th>\n",
       "      <th>1</th>\n",
       "      <th>2</th>\n",
       "      <th>3</th>\n",
       "      <th>4</th>\n",
       "      <th>5</th>\n",
       "      <th>6</th>\n",
       "      <th>7</th>\n",
       "      <th>8</th>\n",
       "      <th>9</th>\n",
       "      <th>10</th>\n",
       "      <th>11</th>\n",
       "      <th>12</th>\n",
       "      <th>13</th>\n",
       "    </tr>\n",
       "  </thead>\n",
       "  <tbody>\n",
       "    <tr>\n",
       "      <th>B cell progenitor</th>\n",
       "      <td>0.000000</td>\n",
       "      <td>0.000000</td>\n",
       "      <td>0.000000</td>\n",
       "      <td>0.000000</td>\n",
       "      <td>0.000000</td>\n",
       "      <td>0.000000</td>\n",
       "      <td>0.000000</td>\n",
       "      <td>0.0</td>\n",
       "      <td>0.000000</td>\n",
       "      <td>0.0</td>\n",
       "      <td>0.000000</td>\n",
       "      <td>0.981132</td>\n",
       "      <td>0.000000</td>\n",
       "      <td>0.000000</td>\n",
       "    </tr>\n",
       "    <tr>\n",
       "      <th>CD14+ Monocytes</th>\n",
       "      <td>0.994628</td>\n",
       "      <td>0.006834</td>\n",
       "      <td>0.000000</td>\n",
       "      <td>0.990132</td>\n",
       "      <td>0.000000</td>\n",
       "      <td>0.000000</td>\n",
       "      <td>0.000000</td>\n",
       "      <td>1.0</td>\n",
       "      <td>0.005435</td>\n",
       "      <td>0.0</td>\n",
       "      <td>0.142857</td>\n",
       "      <td>0.000000</td>\n",
       "      <td>0.823529</td>\n",
       "      <td>0.041667</td>\n",
       "    </tr>\n",
       "    <tr>\n",
       "      <th>CD16+ Monocytes</th>\n",
       "      <td>0.000895</td>\n",
       "      <td>0.000000</td>\n",
       "      <td>0.000000</td>\n",
       "      <td>0.000000</td>\n",
       "      <td>0.000000</td>\n",
       "      <td>0.000000</td>\n",
       "      <td>0.000000</td>\n",
       "      <td>0.0</td>\n",
       "      <td>0.000000</td>\n",
       "      <td>0.0</td>\n",
       "      <td>0.842105</td>\n",
       "      <td>0.000000</td>\n",
       "      <td>0.000000</td>\n",
       "      <td>0.000000</td>\n",
       "    </tr>\n",
       "    <tr>\n",
       "      <th>CD4 Memory</th>\n",
       "      <td>0.001791</td>\n",
       "      <td>0.940774</td>\n",
       "      <td>0.071979</td>\n",
       "      <td>0.000000</td>\n",
       "      <td>0.046429</td>\n",
       "      <td>0.000000</td>\n",
       "      <td>0.000000</td>\n",
       "      <td>0.0</td>\n",
       "      <td>0.000000</td>\n",
       "      <td>0.0</td>\n",
       "      <td>0.000000</td>\n",
       "      <td>0.000000</td>\n",
       "      <td>0.000000</td>\n",
       "      <td>0.000000</td>\n",
       "    </tr>\n",
       "    <tr>\n",
       "      <th>CD4 Naive</th>\n",
       "      <td>0.000895</td>\n",
       "      <td>0.015945</td>\n",
       "      <td>0.876607</td>\n",
       "      <td>0.003289</td>\n",
       "      <td>0.000000</td>\n",
       "      <td>0.000000</td>\n",
       "      <td>0.009091</td>\n",
       "      <td>0.0</td>\n",
       "      <td>0.000000</td>\n",
       "      <td>0.0</td>\n",
       "      <td>0.007519</td>\n",
       "      <td>0.000000</td>\n",
       "      <td>0.000000</td>\n",
       "      <td>0.041667</td>\n",
       "    </tr>\n",
       "    <tr>\n",
       "      <th>CD8 Naive</th>\n",
       "      <td>0.000000</td>\n",
       "      <td>0.000000</td>\n",
       "      <td>0.051414</td>\n",
       "      <td>0.003289</td>\n",
       "      <td>0.021429</td>\n",
       "      <td>0.000000</td>\n",
       "      <td>0.990909</td>\n",
       "      <td>0.0</td>\n",
       "      <td>0.000000</td>\n",
       "      <td>0.0</td>\n",
       "      <td>0.000000</td>\n",
       "      <td>0.000000</td>\n",
       "      <td>0.000000</td>\n",
       "      <td>0.000000</td>\n",
       "    </tr>\n",
       "    <tr>\n",
       "      <th>CD8 effector</th>\n",
       "      <td>0.000000</td>\n",
       "      <td>0.009112</td>\n",
       "      <td>0.000000</td>\n",
       "      <td>0.000000</td>\n",
       "      <td>0.896429</td>\n",
       "      <td>0.013453</td>\n",
       "      <td>0.000000</td>\n",
       "      <td>0.0</td>\n",
       "      <td>0.000000</td>\n",
       "      <td>0.0</td>\n",
       "      <td>0.000000</td>\n",
       "      <td>0.000000</td>\n",
       "      <td>0.000000</td>\n",
       "      <td>0.000000</td>\n",
       "    </tr>\n",
       "    <tr>\n",
       "      <th>Dendritic cell</th>\n",
       "      <td>0.000000</td>\n",
       "      <td>0.000000</td>\n",
       "      <td>0.000000</td>\n",
       "      <td>0.000000</td>\n",
       "      <td>0.000000</td>\n",
       "      <td>0.000000</td>\n",
       "      <td>0.000000</td>\n",
       "      <td>0.0</td>\n",
       "      <td>0.000000</td>\n",
       "      <td>0.0</td>\n",
       "      <td>0.000000</td>\n",
       "      <td>0.000000</td>\n",
       "      <td>0.161765</td>\n",
       "      <td>0.000000</td>\n",
       "    </tr>\n",
       "    <tr>\n",
       "      <th>Double negative T cell</th>\n",
       "      <td>0.000000</td>\n",
       "      <td>0.027335</td>\n",
       "      <td>0.000000</td>\n",
       "      <td>0.000000</td>\n",
       "      <td>0.000000</td>\n",
       "      <td>0.986547</td>\n",
       "      <td>0.000000</td>\n",
       "      <td>0.0</td>\n",
       "      <td>0.000000</td>\n",
       "      <td>0.0</td>\n",
       "      <td>0.007519</td>\n",
       "      <td>0.000000</td>\n",
       "      <td>0.014706</td>\n",
       "      <td>0.000000</td>\n",
       "    </tr>\n",
       "    <tr>\n",
       "      <th>NK cell</th>\n",
       "      <td>0.000000</td>\n",
       "      <td>0.000000</td>\n",
       "      <td>0.000000</td>\n",
       "      <td>0.003289</td>\n",
       "      <td>0.035714</td>\n",
       "      <td>0.000000</td>\n",
       "      <td>0.000000</td>\n",
       "      <td>0.0</td>\n",
       "      <td>0.989130</td>\n",
       "      <td>0.0</td>\n",
       "      <td>0.000000</td>\n",
       "      <td>0.000000</td>\n",
       "      <td>0.000000</td>\n",
       "      <td>0.000000</td>\n",
       "    </tr>\n",
       "    <tr>\n",
       "      <th>Platelets</th>\n",
       "      <td>0.000895</td>\n",
       "      <td>0.000000</td>\n",
       "      <td>0.000000</td>\n",
       "      <td>0.000000</td>\n",
       "      <td>0.000000</td>\n",
       "      <td>0.000000</td>\n",
       "      <td>0.000000</td>\n",
       "      <td>0.0</td>\n",
       "      <td>0.005435</td>\n",
       "      <td>0.0</td>\n",
       "      <td>0.000000</td>\n",
       "      <td>0.000000</td>\n",
       "      <td>0.000000</td>\n",
       "      <td>0.000000</td>\n",
       "    </tr>\n",
       "    <tr>\n",
       "      <th>pDC</th>\n",
       "      <td>0.000000</td>\n",
       "      <td>0.000000</td>\n",
       "      <td>0.000000</td>\n",
       "      <td>0.000000</td>\n",
       "      <td>0.000000</td>\n",
       "      <td>0.000000</td>\n",
       "      <td>0.000000</td>\n",
       "      <td>0.0</td>\n",
       "      <td>0.000000</td>\n",
       "      <td>0.0</td>\n",
       "      <td>0.000000</td>\n",
       "      <td>0.000000</td>\n",
       "      <td>0.000000</td>\n",
       "      <td>0.916667</td>\n",
       "    </tr>\n",
       "    <tr>\n",
       "      <th>pre-B cell</th>\n",
       "      <td>0.000895</td>\n",
       "      <td>0.000000</td>\n",
       "      <td>0.000000</td>\n",
       "      <td>0.000000</td>\n",
       "      <td>0.000000</td>\n",
       "      <td>0.000000</td>\n",
       "      <td>0.000000</td>\n",
       "      <td>0.0</td>\n",
       "      <td>0.000000</td>\n",
       "      <td>1.0</td>\n",
       "      <td>0.000000</td>\n",
       "      <td>0.018868</td>\n",
       "      <td>0.000000</td>\n",
       "      <td>0.000000</td>\n",
       "    </tr>\n",
       "  </tbody>\n",
       "</table>\n",
       "</div>"
      ],
      "text/plain": [
       "                              0         1         2         3         4   \\\n",
       "B cell progenitor       0.000000  0.000000  0.000000  0.000000  0.000000   \n",
       "CD14+ Monocytes         0.994628  0.006834  0.000000  0.990132  0.000000   \n",
       "CD16+ Monocytes         0.000895  0.000000  0.000000  0.000000  0.000000   \n",
       "CD4 Memory              0.001791  0.940774  0.071979  0.000000  0.046429   \n",
       "CD4 Naive               0.000895  0.015945  0.876607  0.003289  0.000000   \n",
       "CD8 Naive               0.000000  0.000000  0.051414  0.003289  0.021429   \n",
       "CD8 effector            0.000000  0.009112  0.000000  0.000000  0.896429   \n",
       "Dendritic cell          0.000000  0.000000  0.000000  0.000000  0.000000   \n",
       "Double negative T cell  0.000000  0.027335  0.000000  0.000000  0.000000   \n",
       "NK cell                 0.000000  0.000000  0.000000  0.003289  0.035714   \n",
       "Platelets               0.000895  0.000000  0.000000  0.000000  0.000000   \n",
       "pDC                     0.000000  0.000000  0.000000  0.000000  0.000000   \n",
       "pre-B cell              0.000895  0.000000  0.000000  0.000000  0.000000   \n",
       "\n",
       "                              5         6    7         8    9         10  \\\n",
       "B cell progenitor       0.000000  0.000000  0.0  0.000000  0.0  0.000000   \n",
       "CD14+ Monocytes         0.000000  0.000000  1.0  0.005435  0.0  0.142857   \n",
       "CD16+ Monocytes         0.000000  0.000000  0.0  0.000000  0.0  0.842105   \n",
       "CD4 Memory              0.000000  0.000000  0.0  0.000000  0.0  0.000000   \n",
       "CD4 Naive               0.000000  0.009091  0.0  0.000000  0.0  0.007519   \n",
       "CD8 Naive               0.000000  0.990909  0.0  0.000000  0.0  0.000000   \n",
       "CD8 effector            0.013453  0.000000  0.0  0.000000  0.0  0.000000   \n",
       "Dendritic cell          0.000000  0.000000  0.0  0.000000  0.0  0.000000   \n",
       "Double negative T cell  0.986547  0.000000  0.0  0.000000  0.0  0.007519   \n",
       "NK cell                 0.000000  0.000000  0.0  0.989130  0.0  0.000000   \n",
       "Platelets               0.000000  0.000000  0.0  0.005435  0.0  0.000000   \n",
       "pDC                     0.000000  0.000000  0.0  0.000000  0.0  0.000000   \n",
       "pre-B cell              0.000000  0.000000  0.0  0.000000  1.0  0.000000   \n",
       "\n",
       "                              11        12        13  \n",
       "B cell progenitor       0.981132  0.000000  0.000000  \n",
       "CD14+ Monocytes         0.000000  0.823529  0.041667  \n",
       "CD16+ Monocytes         0.000000  0.000000  0.000000  \n",
       "CD4 Memory              0.000000  0.000000  0.000000  \n",
       "CD4 Naive               0.000000  0.000000  0.041667  \n",
       "CD8 Naive               0.000000  0.000000  0.000000  \n",
       "CD8 effector            0.000000  0.000000  0.000000  \n",
       "Dendritic cell          0.000000  0.161765  0.000000  \n",
       "Double negative T cell  0.000000  0.014706  0.000000  \n",
       "NK cell                 0.000000  0.000000  0.000000  \n",
       "Platelets               0.000000  0.000000  0.000000  \n",
       "pDC                     0.000000  0.000000  0.916667  \n",
       "pre-B cell              0.018868  0.000000  0.000000  "
      ]
     },
     "execution_count": 38,
     "metadata": {},
     "output_type": "execute_result"
    }
   ],
   "source": [
    "df.head(20)"
   ]
  },
  {
   "cell_type": "code",
   "execution_count": 39,
   "metadata": {},
   "outputs": [
    {
     "data": {
      "image/png": "[encoded data removed]",
      "text/plain": [
       "<Figure size 792x648 with 2 Axes>"
      ]
     },
     "metadata": {
      "needs_background": "light"
     },
     "output_type": "display_data"
    }
   ],
   "source": [
    "# sns.set(style=\"white\")\n",
    "f, ax = plt.subplots(figsize=(11, 9))\n",
    "cmap = sns.diverging_palette(220, 10, as_cmap=True)\n",
    "ax = sns.heatmap(df, annot=True, cmap=cmap)\n",
    "bottom, top = ax.get_ylim()\n",
    "ax.set_ylim(bottom + 0.5, top - 0.5)\n",
    "plt.ylabel(\"Cell type\")\n",
    "plt.xlabel(\"Cluster\")\n",
    "plt.tight_layout()\n",
    "plt.savefig('BinaryCt_Cluster_v2.pdf')"
   ]
  },
  {
   "cell_type": "code",
   "execution_count": null,
   "metadata": {},
   "outputs": [],
   "source": []
  }
 ],
 "metadata": {
  "kernelspec": {
   "display_name": "Python 3",
   "language": "python",
   "name": "python3"
  },
  "language_info": {
   "codemirror_mode": {
    "name": "ipython",
    "version": 3
   },
   "file_extension": ".py",
   "mimetype": "text/x-python",
   "name": "python",
   "nbconvert_exporter": "python",
   "pygments_lexer": "ipython3",
   "version": "3.8.5"
  }
 },
 "nbformat": 4,
 "nbformat_minor": 2
}
